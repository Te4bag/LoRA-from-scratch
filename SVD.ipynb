{
 "cells": [
  {
   "cell_type": "markdown",
   "metadata": {},
   "source": [
    "## Singular value decomposition"
   ]
  },
  {
   "cell_type": "code",
   "execution_count": 1,
   "metadata": {},
   "outputs": [],
   "source": [
    "import torch\n",
    "import numpy as np\n",
    "_ = torch.manual_seed(0)"
   ]
  },
  {
   "cell_type": "markdown",
   "metadata": {},
   "source": [
    "#### Generate rank-deficient matrix\n",
    "**Rank**: \n",
    "\n",
    "The rank of a matrix is the number of linearly independent rows (or columns) it contains. \n",
    "\n",
    "**Full Rank**:\n",
    "\n",
    "A matrix has full rank if its rank is equal to the minimum of the number of rows and columns. \n",
    "\n",
    "**Rank-Deficient**:\n",
    "\n",
    "A matrix is rank-deficient if its rank is less than the minimum of the number of rows and columns. "
   ]
  },
  {
   "cell_type": "code",
   "execution_count": 3,
   "metadata": {},
   "outputs": [
    {
     "name": "stdout",
     "output_type": "stream",
     "text": [
      "tensor([[ 2.8501, -4.1679, -1.2931, -1.7376, -2.5698, -3.2220, -1.4271, -1.2982,\n",
      "          0.2702,  1.2163],\n",
      "        [ 3.2737, -4.7411, -1.4644, -1.9621, -2.9216, -3.6760, -1.6166, -1.4949,\n",
      "          0.2975,  1.3819],\n",
      "        [-0.0141, -3.3560, -1.5177, -2.4550, -2.1852, -1.7979, -1.6433,  0.2801,\n",
      "          0.9375,  1.1010],\n",
      "        [-0.8365,  0.4910,  0.0490, -0.0243,  0.2776,  0.5523,  0.0609,  0.4404,\n",
      "          0.1243, -0.1169],\n",
      "        [-3.9740, -0.6857, -1.1295, -2.3176, -0.6460,  1.0025, -1.1858,  2.3367,\n",
      "          1.4298,  0.4341],\n",
      "        [ 0.7376, -0.9989, -0.2987, -0.3915, -0.6132, -0.7910, -0.3304, -0.3424,\n",
      "          0.0478,  0.2886],\n",
      "        [-2.2472,  1.8582,  0.3750,  0.3281,  1.0966,  1.7733,  0.4272,  1.1393,\n",
      "          0.1840, -0.4908],\n",
      "        [ 0.7821, -0.5984, -0.1087, -0.0790, -0.3502, -0.5912, -0.1251, -0.4004,\n",
      "         -0.0775,  0.1550],\n",
      "        [-0.0482, -0.4016, -0.1912, -0.3150, -0.2638, -0.1991, -0.2066,  0.0602,\n",
      "          0.1267,  0.1342],\n",
      "        [ 0.6151, -0.9209, -0.2887, -0.3906, -0.5685, -0.7068, -0.3184, -0.2785,\n",
      "          0.0642,  0.2695]])\n"
     ]
    }
   ],
   "source": [
    "d, k = 10, 10\n",
    "W_rank = 2\n",
    "W = torch.randn(d, W_rank) @ torch.randn(W_rank, k)     # '@' matrix multiplication operator in pytorch\n",
    "print(W)"
   ]
  },
  {
   "cell_type": "code",
   "execution_count": null,
   "metadata": {},
   "outputs": [
    {
     "name": "stdout",
     "output_type": "stream",
     "text": [
      "Rank of W: 2 \n"
     ]
    }
   ],
   "source": [
    "# Verify the rank of the matrix W\n",
    "\n",
    "W_rank = np.linalg.matrix_rank(W)\n",
    "print(f'Rank of W: {W_rank')"
   ]
  },
  {
   "cell_type": "markdown",
   "metadata": {},
   "source": [
    "Calculate the Singular Value Decomposition(SVD) of the matrix W\n",
    "https://pytorch.org/docs/stable/generated/torch.svd.html"
   ]
  },
  {
   "cell_type": "code",
   "execution_count": 7,
   "metadata": {},
   "outputs": [
    {
     "name": "stdout",
     "output_type": "stream",
     "text": [
      "Shape of B is: torch.Size([10, 2])\n",
      "Shape of A is: torch.Size([2, 10])\n"
     ]
    }
   ],
   "source": [
    "# Perform SVD on W (W = UxSxV^T, where S is a diagonal matrix)\n",
    "U, S, V = torch.svd(W)\n",
    "\n",
    "# For rank-r factorization, keep only the first r singluar values (and corresponding values of U and V)\n",
    "U_r = U[:, :W_rank]\n",
    "S_r = torch.diag(S[:W_rank])\n",
    "V_r = V[:, :W_rank].t()\n",
    "\n",
    "A = V_r\n",
    "B = U_r @ S_r\n",
    "\n",
    "print(f'Shape of B is: {B.shape}')\n",
    "print(f'Shape of A is: {A.shape}')"
   ]
  },
  {
   "cell_type": "markdown",
   "metadata": {},
   "source": [
    "Given the same input, check the output using original W and the matrices resulting from the decomposition"
   ]
  },
  {
   "cell_type": "code",
   "execution_count": 12,
   "metadata": {},
   "outputs": [
    {
     "name": "stdout",
     "output_type": "stream",
     "text": [
      "Original y using W:\n",
      " tensor([ 2.2160,  0.6968,  0.6303, -0.9141,  0.3327,  1.2159,  0.6038, -0.5784,\n",
      "        -0.7409,  2.1185])\n",
      "\n",
      "y_hat computed using BA:\n",
      "  tensor([ 2.2160,  0.6968,  0.6303, -0.9141,  0.3327,  1.2159,  0.6038, -0.5784,\n",
      "        -0.7409,  2.1185])\n"
     ]
    }
   ],
   "source": [
    "bias = torch.randn(d)\n",
    "x = torch.randn(d)\n",
    "\n",
    "y = W @ x + bias\n",
    "\n",
    "y_hat = (B @ A) @ x + bias\n",
    "\n",
    "print('Original y using W:\\n', y)\n",
    "print('\\ny_hat computed using BA:\\n ',y_hat )"
   ]
  },
  {
   "cell_type": "code",
   "execution_count": 13,
   "metadata": {},
   "outputs": [
    {
     "name": "stdout",
     "output_type": "stream",
     "text": [
      "Total parameters of W: 100\n",
      "Total parameters of A and B: 40\n"
     ]
    }
   ],
   "source": [
    "print('Total parameters of W:', W.nelement())\n",
    "print('Total parameters of A and B:', A.nelement() + B.nelement())\n"
   ]
  },
  {
   "cell_type": "code",
   "execution_count": null,
   "metadata": {},
   "outputs": [],
   "source": []
  }
 ],
 "metadata": {
  "kernelspec": {
   "display_name": "py-gpu",
   "language": "python",
   "name": "python3"
  },
  "language_info": {
   "codemirror_mode": {
    "name": "ipython",
    "version": 3
   },
   "file_extension": ".py",
   "mimetype": "text/x-python",
   "name": "python",
   "nbconvert_exporter": "python",
   "pygments_lexer": "ipython3",
   "version": "3.10.15"
  }
 },
 "nbformat": 4,
 "nbformat_minor": 2
}
